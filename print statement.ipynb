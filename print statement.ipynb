{
 "cells": [
  {
   "cell_type": "code",
   "execution_count": 3,
   "metadata": {},
   "outputs": [],
   "source": [
    "Full_Name = \"Sowjanya Lakkaraju\"\n",
    "Employee_ID =\"APSS-FT-001\"\n",
    "Employee_Type =\"Full Time\"\n",
    "Employee_Status =\"Active\"\n",
    "Suffix = \"Ms\"\n",
    "First_Name = \"Sowjanya\"\n",
    "Last_Name = \"Lakkaraju\"\n",
    "Gender = \"Female\"\n",
    "DOJ = \"December 12th 2018\"\n",
    "Designation = \"Machine Learning\"\n",
    "Blood_Group =\"O +ve\"\n",
    "Higher_Education = \"B.tech\"\n",
    "Previous_Work_Experience =\"4 Years\"\n",
    "Mobile = \"+91 1234567890\"\n",
    "Personal_Email= \"ps@gmail.com\"\n",
    "Company_Email = \"ps.apss@gmail.com\"\n",
    "ID_Card_Issue = \"December 12th 2018\"\n",
    "Interview_Taken_By = \"Divesh Kumar M\"\n",
    "Selection_Process =\"Interview\"\n",
    "Selected_By = \"Divesh Kumar M\"\n",
    "Hiring_Manager = \"Nandini\"\n",
    "Hr_Manager = \"Nandini\"\n",
    "Reporting_Manager =\"Nandini\"\n",
    "Timesheet_Approve_by = \"Nandini\"\n",
    "Team_Lead = \"Divesh Kumar\"\n",
    "Payment = \"CTC\"\n",
    "CTC= \"Not Mentioned\"\n",
    "End_of_Contact = \"Not Mentioned\""
   ]
  },
  {
   "cell_type": "code",
   "execution_count": 4,
   "metadata": {},
   "outputs": [
    {
     "name": "stdout",
     "output_type": "stream",
     "text": [
      "Greetings from Artificial Penetration Software Solutions Private Limited.\n",
      "Dear Sowjanya Lakkaraju, \n",
      "This is to inform that APSS going to start company operations again from this September 14th 2020 work from home option till End of April 2021.\n",
      "As we all know this COVID-19 pandemic period, almost all companies’ shutdown due to huge loss and unable to generate revenue to support company expenses. It’s really painful request from management to all employees that start working without pay till December 2020. If company started generating revenue means, company ready to pay equal amount to all employees who are working in this situation.\n",
      "It's just humble request from the Management to stay with us to continue and grow with company together. The ultimate final decision going to be with you.\n",
      " Sowjanya Lakkaraju, you can end the work or employment from the Artificial Penetration Software Solutions Private Limited if you are not willing to start or continue your work with us.\n",
      "HR Team and Management, working together to settle all the documents you need to get from organization. All the documents are going to get ready by September 18th 2020 whether you are planning to continue or not.\n",
      "\n",
      "Personal Details\n",
      "Employee ID: APSS-FT-001\n",
      "Employee Type: Full Time\n",
      "Employee Status: Active\n",
      "Suffix: Ms\n",
      "First Name: Sowjanya\n",
      "Last Name: Lakkaraju\n",
      "Gender: Female\n",
      "Date Of Joining: December 12th 2018\n",
      "Designation: Machine Learning\n",
      "Blood Group: O +ve\n",
      "Higher Education: B.tech\n",
      "Previous Work Experience: 4 Years\n",
      "Mobile Number: +91 1234567890\n"
     ]
    }
   ],
   "source": [
    "print(\"Greetings from Artificial Penetration Software Solutions Private Limited.\\nDear\", \n",
    "      Full_Name+ \", \\n\" \n",
    "      \"This is to inform that APSS going to start company operations again from this September 14th 2020 work from home option till End of April 2021.\\n\"\n",
    "      \"As we all know this COVID-19 pandemic period, almost all companies’ shutdown due to huge loss and unable to generate revenue to support company expenses. It’s really painful request from management to all employees that start working without pay till December 2020. If company started generating revenue means, company ready to pay equal amount to all employees who are working in this situation.\\n\"\n",
    "      \"It's just humble request from the Management to stay with us to continue and grow with company together. The ultimate final decision going to be with you.\\n\",\n",
    "      Full_Name+ \", you can end the work or employment from the Artificial Penetration Software Solutions Private Limited if you are not willing to start or continue your work with us.\\n\"\n",
    "      \"HR Team and Management, working together to settle all the documents you need to get from organization. All the documents are going to get ready by September 18th 2020 whether you are planning to continue or not.\\n\"\n",
    "     )\n",
    "\n",
    "print(\"Personal Details\")\n",
    "print(\"Employee ID:\", Employee_ID )\n",
    "print(\"Employee Type:\", Employee_Type)\n",
    "print(\"Employee Status:\", Employee_Status)\n",
    "print(\"Suffix:\", Suffix)\n",
    "print(\"First Name:\", First_Name)\n",
    "print(\"Last Name:\", Last_Name)\n",
    "print(\"Gender:\", Gender)\n",
    "print(\"Date Of Joining:\", DOJ)\n",
    "print(\"Designation:\", Designation)\n",
    "print(\"Blood Group:\", Blood_Group)\n",
    "print(\"Higher Education:\", Higher_Education)\n",
    "print(\"Previous Work Experience:\", Previous_Work_Experience)\n",
    "print(\"Mobile Number:\", Mobile)"
   ]
  },
  {
   "cell_type": "code",
   "execution_count": null,
   "metadata": {},
   "outputs": [],
   "source": []
  }
 ],
 "metadata": {
  "kernelspec": {
   "display_name": "Python 3",
   "language": "python",
   "name": "python3"
  },
  "language_info": {
   "codemirror_mode": {
    "name": "ipython",
    "version": 3
   },
   "file_extension": ".py",
   "mimetype": "text/x-python",
   "name": "python",
   "nbconvert_exporter": "python",
   "pygments_lexer": "ipython3",
   "version": "3.7.6"
  }
 },
 "nbformat": 4,
 "nbformat_minor": 4
}
